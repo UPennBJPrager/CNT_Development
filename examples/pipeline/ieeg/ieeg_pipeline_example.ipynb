{
 "cells": [
  {
   "cell_type": "code",
   "execution_count": 1,
   "id": "a4acefc7",
   "metadata": {},
   "outputs": [
    {
     "data": {
      "text/html": [
       "<style>.container { width:100% !important; }</style>"
      ],
      "text/plain": [
       "<IPython.core.display.HTML object>"
      ]
     },
     "metadata": {},
     "output_type": "display_data"
    }
   ],
   "source": [
    "# Increase width of cells for easy readibility.\n",
    "from IPython.display import display, HTML\n",
    "display(HTML(\"<style>.container { width:100% !important; }</style>\"))"
   ]
  },
  {
   "cell_type": "code",
   "execution_count": 7,
   "id": "e7f2e890",
   "metadata": {},
   "outputs": [],
   "source": [
    "# Base python imports\n",
    "import sys\n",
    "import argparse\n",
    "\n",
    "# CNT iEEG Library imports\n"
   ]
  },
  {
   "cell_type": "code",
   "execution_count": 1,
   "id": "9d4f8137",
   "metadata": {
    "tags": []
   },
   "outputs": [
    {
     "name": "stdout",
     "output_type": "stream",
     "text": [
      "Processing /Users/bjprager/Documents/REPOSITORIES/CNT_PROJECT_TEMPLATE/CNT_Development/core_libraries/python/ieeg/pipeline_ieeg-0.0.1-py3-none-any.whl\n",
      "Installing collected packages: pipeline-ieeg\n",
      "Successfully installed pipeline-ieeg-0.0.1\n",
      "Note: you may need to restart the kernel to use updated packages.\n"
     ]
    }
   ],
   "source": [
    "%pip install --force-reinstall /Users/bjprager/Documents/REPOSITORIES/CNT_PROJECT_TEMPLATE/CNT_Development/core_libraries/python/ieeg/pipeline_ieeg-0.0.1-py3-none-any.whl"
   ]
  },
  {
   "cell_type": "code",
   "execution_count": 1,
   "id": "d0feae12-47de-4143-b7c8-6f3c1f8219d0",
   "metadata": {},
   "outputs": [
    {
     "ename": "ModuleNotFoundError",
     "evalue": "No module named 'relative_import'",
     "output_type": "error",
     "traceback": [
      "\u001b[0;31m---------------------------------------------------------------------------\u001b[0m",
      "\u001b[0;31mModuleNotFoundError\u001b[0m                       Traceback (most recent call last)",
      "Cell \u001b[0;32mIn[1], line 1\u001b[0m\n\u001b[0;32m----> 1\u001b[0m \u001b[38;5;28;01mimport\u001b[39;00m \u001b[38;5;21;01mpipeline_ieeg\u001b[39;00m\n",
      "File \u001b[0;32m~/opt/anaconda3/envs/iEEG/lib/python3.10/site-packages/pipeline_ieeg/__init__.py:1\u001b[0m\n\u001b[0;32m----> 1\u001b[0m \u001b[38;5;28;01mfrom\u001b[39;00m \u001b[38;5;21;01m.\u001b[39;00m\u001b[38;5;21;01mdata_pull\u001b[39;00m \u001b[38;5;28;01mimport\u001b[39;00m \u001b[38;5;241m*\u001b[39m\n",
      "File \u001b[0;32m~/opt/anaconda3/envs/iEEG/lib/python3.10/site-packages/pipeline_ieeg/data_pull/__init__.py:3\u001b[0m\n\u001b[1;32m      1\u001b[0m \u001b[38;5;28;01mfrom\u001b[39;00m \u001b[38;5;21;01m.\u001b[39;00m\u001b[38;5;21;01mcheck_data_repository\u001b[39;00m \u001b[38;5;28;01mimport\u001b[39;00m \u001b[38;5;241m*\u001b[39m\n\u001b[1;32m      2\u001b[0m \u001b[38;5;28;01mfrom\u001b[39;00m \u001b[38;5;21;01m.\u001b[39;00m\u001b[38;5;21;01mget_dummy_data\u001b[39;00m \u001b[38;5;28;01mimport\u001b[39;00m main\n\u001b[0;32m----> 3\u001b[0m \u001b[38;5;28;01mfrom\u001b[39;00m \u001b[38;5;21;01m.\u001b[39;00m\u001b[38;5;21;01mpipeline_datapull_ieeg\u001b[39;00m \u001b[38;5;28;01mimport\u001b[39;00m main\n",
      "File \u001b[0;32m~/opt/anaconda3/envs/iEEG/lib/python3.10/site-packages/pipeline_ieeg/data_pull/pipeline_datapull_ieeg.py:12\u001b[0m\n\u001b[1;32m     10\u001b[0m utilpath \u001b[38;5;241m=\u001b[39m \u001b[38;5;124m'\u001b[39m\u001b[38;5;124m../../util\u001b[39m\u001b[38;5;124m'\u001b[39m\n\u001b[1;32m     11\u001b[0m \u001b[38;5;28;01mif\u001b[39;00m  utilpath \u001b[38;5;129;01mnot\u001b[39;00m \u001b[38;5;129;01min\u001b[39;00m sys\u001b[38;5;241m.\u001b[39mpath:sys\u001b[38;5;241m.\u001b[39mpath\u001b[38;5;241m.\u001b[39mappend(utilpath)\n\u001b[0;32m---> 12\u001b[0m \u001b[38;5;28;01mimport\u001b[39;00m \u001b[38;5;21;01mrelative_import\u001b[39;00m \u001b[38;5;28;01mas\u001b[39;00m \u001b[38;5;21;01mRI\u001b[39;00m\n\u001b[1;32m     13\u001b[0m RI\u001b[38;5;241m.\u001b[39mmain(\u001b[38;5;124m'\u001b[39m\u001b[38;5;124m../../../../CNT_research_tools/python/tools\u001b[39m\u001b[38;5;124m'\u001b[39m)\n\u001b[1;32m     15\u001b[0m \u001b[38;5;66;03m# User library import\u001b[39;00m\n",
      "\u001b[0;31mModuleNotFoundError\u001b[0m: No module named 'relative_import'"
     ]
    }
   ],
   "source": [
    "import pipeline_ieeg"
   ]
  },
  {
   "cell_type": "code",
   "execution_count": null,
   "id": "bc83e5c8-9676-4340-9c9c-208851d75087",
   "metadata": {},
   "outputs": [],
   "source": []
  }
 ],
 "metadata": {
  "kernelspec": {
   "display_name": "Python 3 (ipykernel)",
   "language": "python",
   "name": "python3"
  },
  "language_info": {
   "codemirror_mode": {
    "name": "ipython",
    "version": 3
   },
   "file_extension": ".py",
   "mimetype": "text/x-python",
   "name": "python",
   "nbconvert_exporter": "python",
   "pygments_lexer": "ipython3",
   "version": "3.10.9"
  }
 },
 "nbformat": 4,
 "nbformat_minor": 5
}
